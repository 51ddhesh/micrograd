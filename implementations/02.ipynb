{
 "cells": [
  {
   "cell_type": "code",
   "execution_count": 1,
   "id": "fabf564f",
   "metadata": {},
   "outputs": [],
   "source": [
    "import math\n",
    "import numpy as np\n",
    "import matplotlib.pyplot as plt\n",
    "%matplotlib inline"
   ]
  },
  {
   "cell_type": "code",
   "execution_count": 2,
   "id": "0a11e5b1",
   "metadata": {},
   "outputs": [
    {
     "name": "stdout",
     "output_type": "stream",
     "text": [
      "4.0\n"
     ]
    }
   ],
   "source": [
    "a = 2.0\n",
    "b = -3.0\n",
    "c = 10.0\n",
    "\n",
    "d = a * b + c\n",
    "\n",
    "print(d)"
   ]
  },
  {
   "cell_type": "code",
   "execution_count": 3,
   "id": "7db1d35f",
   "metadata": {},
   "outputs": [],
   "source": [
    "h = 0.0001"
   ]
  },
  {
   "cell_type": "code",
   "execution_count": 4,
   "id": "02cda444",
   "metadata": {},
   "outputs": [],
   "source": [
    "d1 = a * b + c\n",
    "d2 = (a + h) * b + c\n",
    "d3 = a * (b + h) + c\n",
    "d4 = a * b + (c + h)"
   ]
  },
  {
   "cell_type": "code",
   "execution_count": 5,
   "id": "9d822512",
   "metadata": {},
   "outputs": [
    {
     "name": "stdout",
     "output_type": "stream",
     "text": [
      "d1 = 4.0\n",
      "d2 = 3.999699999999999\n",
      "d3 = 4.0002\n",
      "d4 = 4.0001\n"
     ]
    }
   ],
   "source": [
    "print(f'd1 = {d1}')\n",
    "print(f'd2 = {d2}')\n",
    "print(f'd3 = {d3}')\n",
    "print(f'd4 = {d4}')"
   ]
  },
  {
   "cell_type": "code",
   "execution_count": 6,
   "id": "5c5469eb",
   "metadata": {},
   "outputs": [
    {
     "name": "stdout",
     "output_type": "stream",
     "text": [
      "Derivative of d wrt a: -3.000000000010772\n",
      "Derivative of d wrt b: 2.0000000000042206\n",
      "Derivative of d wrt c: 0.9999999999976694\n"
     ]
    }
   ],
   "source": [
    "print(f'Derivative of d wrt a: {(d2 - d1) / h}')\n",
    "print(f'Derivative of d wrt b: {(d3 - d1) / h}')\n",
    "print(f'Derivative of d wrt c: {(d4 - d1) / h}')"
   ]
  }
 ],
 "metadata": {
  "kernelspec": {
   "display_name": "micrograd",
   "language": "python",
   "name": "python3"
  },
  "language_info": {
   "codemirror_mode": {
    "name": "ipython",
    "version": 3
   },
   "file_extension": ".py",
   "mimetype": "text/x-python",
   "name": "python",
   "nbconvert_exporter": "python",
   "pygments_lexer": "ipython3",
   "version": "3.13.3"
  }
 },
 "nbformat": 4,
 "nbformat_minor": 5
}
